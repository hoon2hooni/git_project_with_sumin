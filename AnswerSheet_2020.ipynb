{
 "cells": [
  {
   "cell_type": "markdown",
   "metadata": {},
   "source": [
    "# SWCON104 Web/Python Programming 2020-1 Midterm Assignment\n"
   ]
  },
  {
   "cell_type": "markdown",
   "metadata": {},
   "source": [
    "- File Name: StudentID_YourName.ipynb (Ex: 1234567890_홍길동.ipynb) <Br>\n",
    "- Submission Due: 2020/05/04 23:50 <br>"
   ]
  },
  {
   "cell_type": "markdown",
   "metadata": {},
   "source": [
    "Answer for Question.1"
   ]
  },
  {
   "cell_type": "code",
   "execution_count": 1,
   "metadata": {},
   "outputs": [
    {
     "name": "stdout",
     "output_type": "stream",
     "text": [
      "120\n"
     ]
    }
   ],
   "source": [
    "def CalcFactorial(n):\n",
    "    answer_list=[]\n",
    "    answer=1\n",
    "    if type(n) != int:\n",
    "        return -1 \n",
    "    elif n <= 0:\n",
    "        return -2\n",
    "    else: \n",
    "        while n >= 1:\n",
    "            answer_list.append(N)\n",
    "            n=n-1\n",
    "        for i in answer_list:\n",
    "            answer=answer*i\n",
    "        return answer\n",
    "\n",
    "print(CalcFactorial(5))"
   ]
  },
  {
   "cell_type": "markdown",
   "metadata": {},
   "source": [
    "Answer for Question.2"
   ]
  },
  {
   "cell_type": "code",
   "execution_count": 6,
   "metadata": {},
   "outputs": [
    {
     "name": "stdout",
     "output_type": "stream",
     "text": [
      "\n",
      "Menu: \n",
      "[0] scissor, \n",
      "[1] rock, \n",
      "[2] paper, \n",
      "[3] quit \n",
      "\n",
      "Select: 1\n",
      "\n",
      "Result: User [rock] vs Computer [scissor] -> Winner is User\n",
      "\n",
      "Menu: \n",
      "[0] scissor, \n",
      "[1] rock, \n",
      "[2] paper, \n",
      "[3] quit \n",
      "\n",
      "Select: 3\n"
     ]
    }
   ],
   "source": [
    "caseTypes = [\"scissor\", \"rock\", \"paper\"]\n",
    "\n",
    "# Start of Answer\n",
    "import random\n",
    "def GenerateRandomCaseForComputer():\n",
    "    return caseTypes[random.randrange(0,3)]\n",
    "def MakeDecision(a,b):\n",
    "    if a==b:\n",
    "        return \"Tie\"\n",
    "    elif a=='scissor':\n",
    "        if b=='rock':\n",
    "            return \"Computer\"\n",
    "        elif b=='paper':\n",
    "            return \"User\"\n",
    "    elif a=='rock':\n",
    "        if b=='scissor':\n",
    "            return \"User\"\n",
    "        elif b=='paper':\n",
    "            return \"Computer\"\n",
    "    elif a=='paper':\n",
    "        if b=='rock':\n",
    "            return \"User\"\n",
    "        elif b=='scissor':\n",
    "            return \"Computer\"\n",
    "    else:\n",
    "        reurn -1\n",
    "\n",
    "# End of Answer\n",
    "\n",
    "# Below is Execution Example, and can be removed.\n",
    "\n",
    "userInput = 0\n",
    "while True:\n",
    "    userInput = int(input(\"\\nMenu: \\n[0] scissor, \\n[1] rock, \\n[2] paper, \\n[3] quit \\n\\nSelect: \"))\n",
    "    if(userInput != 3):\n",
    "        valueUser = caseTypes[userInput]\n",
    "        valueComputer = GenerateRandomCaseForComputer()\n",
    "        valueDecision = MakeDecision(valueUser, valueComputer)\n",
    "        print(\"\\nResult: User [{0}] vs Computer [{1}] -> Winner is {2}\".format(valueUser, valueComputer, valueDecision))\n",
    "    else:\n",
    "        break"
   ]
  },
  {
   "cell_type": "markdown",
   "metadata": {},
   "source": [
    "Answer for Question.3"
   ]
  },
  {
   "cell_type": "code",
   "execution_count": 22,
   "metadata": {},
   "outputs": [],
   "source": [
    "def isPrime(num, L):\n",
    "    L=[]\n",
    "    for i in range(1,num+1):\n",
    "        if num%i == 0:\n",
    "            L.append(i)\n",
    "    if len(L)==2:\n",
    "        return True\n",
    "    else:\n",
    "        print(L)\n",
    "        return False\n",
    "    # Implement the function here\n",
    "    # If syntax error occurs, no point will be given for this function\n",
    "    # Do not change the function header"
   ]
  },
  {
   "cell_type": "code",
   "execution_count": 27,
   "metadata": {},
   "outputs": [
    {
     "name": "stdout",
     "output_type": "stream",
     "text": [
      "[1, 2, 4, 8]\n",
      "False\n"
     ]
    }
   ],
   "source": [
    "ans = isPrime(8,[])  # This cell is for your confirmation, can be removed.\n",
    "print(ans)           # If correctly implemented, [1,2,4,8] is printed first, and False is printed at the next line."
   ]
  },
  {
   "cell_type": "markdown",
   "metadata": {},
   "source": [
    "Answer for Question.4"
   ]
  },
  {
   "cell_type": "code",
   "execution_count": 78,
   "metadata": {},
   "outputs": [],
   "source": [
    "def getResult(status):\n",
    "    for unit in status:\n",
    "        if unit == '_':\n",
    "            return \"You lose\"\n",
    "        else:\n",
    "            return \"You win\"\n",
    "    # Implement the function here.\n",
    "    # If syntax error occurs, no point will be given for this function\n",
    "    # Do not change the function header"
   ]
  },
  {
   "cell_type": "code",
   "execution_count": 87,
   "metadata": {},
   "outputs": [],
   "source": [
    "def updateStatus(word, x, status):\n",
    "    if word.count(x)<1:\n",
    "        new_status = status\n",
    "    else:\n",
    "        statusList=list(status)\n",
    "        for i in range(len(word)):\n",
    "            if word[i] == x:\n",
    "                statusList[i] = x\n",
    "        status=\"\".join(statusList)\n",
    "        new_status=status\n",
    "    print(new_status)\n",
    "    return new_status\n",
    "    # Implement the function here.\n",
    "    # If syntax error occurs, no point will be given for this function\n",
    "    # Do not change the function header\n",
    "    # Hint: use str.count() and str.find(). Not mendatory."
   ]
  },
  {
   "cell_type": "code",
   "execution_count": 88,
   "metadata": {},
   "outputs": [],
   "source": [
    "def startGame(word):\n",
    "    chance=0\n",
    "    status = '_'*len(word)\n",
    "    while chance<len(word):\n",
    "        x=input(str(len(word)-chance)+\" chances. Enter a letter: \")\n",
    "        status=updateStatus(word,x,status)\n",
    "        chance = chance+1\n",
    "        if status.count('_') == 0:\n",
    "            break\n",
    "    return getResult(status)\n",
    "    # Implement the function here.\n",
    "    # If syntax error occurs, no point will be given for this function\n",
    "    # Do not change the function header\n",
    "    # Hint: use input() inside while-loop. "
   ]
  },
  {
   "cell_type": "code",
   "execution_count": 89,
   "metadata": {},
   "outputs": [
    {
     "name": "stdout",
     "output_type": "stream",
     "text": [
      "12 chances. Enter a letter: D\n",
      "____________\n",
      "11 chances. Enter a letter: F\n",
      "____________\n",
      "10 chances. Enter a letter: F\n",
      "____________\n",
      "9 chances. Enter a letter: S\n",
      "___________S\n",
      "8 chances. Enter a letter: G\n",
      "___________S\n",
      "7 chances. Enter a letter: Q\n",
      "___________S\n",
      "6 chances. Enter a letter: T\n",
      "_______T___S\n",
      "5 chances. Enter a letter: TY\n",
      "_______T___S\n",
      "4 chances. Enter a letter: D\n",
      "_______T___S\n",
      "3 chances. Enter a letter: Z\n",
      "_______T___S\n",
      "2 chances. Enter a letter: Z\n",
      "_______T___S\n",
      "1 chances. Enter a letter: A\n",
      "_______TA__S\n",
      "You lose\n"
     ]
    }
   ],
   "source": [
    "word = 'HIPPOPOTAMUS'    # This cell is for your confirmation, can be removed.\n",
    "result = startGame(word) # If correctly implemented, the result should be \n",
    "print(result)            # as the program execution example figure in your question sheet."
   ]
  },
  {
   "cell_type": "code",
   "execution_count": 19,
   "metadata": {},
   "outputs": [
    {
     "name": "stdout",
     "output_type": "stream",
     "text": [
      "____________\n"
     ]
    }
   ],
   "source": [
    "status=\"____________\"\n",
    "status[word.find('H')].replace(\"_\",'H')\n",
    "print(status)"
   ]
  },
  {
   "cell_type": "code",
   "execution_count": 86,
   "metadata": {},
   "outputs": [
    {
     "data": {
      "text/plain": [
       "0"
      ]
     },
     "execution_count": 86,
     "metadata": {},
     "output_type": "execute_result"
    }
   ],
   "source": [
    "word.count('D')"
   ]
  },
  {
   "cell_type": "code",
   "execution_count": 21,
   "metadata": {},
   "outputs": [
    {
     "data": {
      "text/plain": [
       "'_'"
      ]
     },
     "execution_count": 21,
     "metadata": {},
     "output_type": "execute_result"
    }
   ],
   "source": [
    "status[0]"
   ]
  },
  {
   "cell_type": "code",
   "execution_count": null,
   "metadata": {},
   "outputs": [],
   "source": []
  }
 ],
 "metadata": {
  "kernelspec": {
   "display_name": "Python 3",
   "language": "python",
   "name": "python3"
  },
  "language_info": {
   "codemirror_mode": {
    "name": "ipython",
    "version": 3
   },
   "file_extension": ".py",
   "mimetype": "text/x-python",
   "name": "python",
   "nbconvert_exporter": "python",
   "pygments_lexer": "ipython3",
   "version": "3.8.3"
  }
 },
 "nbformat": 4,
 "nbformat_minor": 2
}